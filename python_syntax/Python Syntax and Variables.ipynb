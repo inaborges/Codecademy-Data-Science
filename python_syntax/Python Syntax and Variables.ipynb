{
 "cells": [
  {
   "cell_type": "markdown",
   "metadata": {},
   "source": [
    "# Python Syntax and Variables Types"
   ]
  },
  {
   "cell_type": "markdown",
   "metadata": {},
   "source": [
    "Projeto do curso Data Science da Codecademy  \n",
    "https://www.codecademy.com/learn/paths/data-science\n",
    "\n",
    "Marina Borges, 2021  \n",
    "github.com/inaborges"
   ]
  },
  {
   "cell_type": "markdown",
   "metadata": {},
   "source": [
    "You can find this project [here](https://www.codecademy.com/paths/data-science/tracks/dscp-python-fundamentals/modules/dscp-python-syntax/projects/ds-python-syntax-project).  \n",
    "\n",
    "Suppose you are a medical professional curious about how certain factors contribute to medical insurance costs.  \n",
    "Using a formula that estimates a person’s yearly insurance costs, you will investigate how different factors such as age, sex, BMI, etc. affect the prediction.  \n"
   ]
  },
  {
   "cell_type": "markdown",
   "metadata": {},
   "source": [
    "# 1. Setting up Factors\n",
    "Our first step is to create the variables for each factor we will consider when estimating medical insurance costs.\n",
    "\n",
    "These are the variables we will need to create:\n",
    "\n",
    "* age: age of the individual in years\n",
    "* sex: 0 for female, 1 for male*\n",
    "* bmi: individual’s body mass index\n",
    "* num_of_children: number of children the individual has\n",
    "* smoker: 0 for a non-smoker, 1 for a smoker\n",
    "\n",
    "At the top of script.py, create the following variables for a 28-year-old, nonsmoking woman who has three children and a BMI of 26.2.\n",
    "\n",
    "Note: We are using this medical insurance dataset as a guide, which unfortunately does not include data for non-binary individuals."
   ]
  },
  {
   "cell_type": "code",
   "execution_count": 1,
   "metadata": {},
   "outputs": [],
   "source": [
    "# Primeiro passo - criar as variáveis:\n",
    "age = 28\n",
    "sex = 0\n",
    "smoker = 0\n",
    "num_of_children = 3\n",
    "bmi = 26.2"
   ]
  },
  {
   "cell_type": "markdown",
   "metadata": {},
   "source": [
    "# 2. Working with the Formula\n",
    "\n",
    "\n",
    "After the declaration of the variables, create a variable called insurance_cost that utilizes the following formula:  \n",
    "```\n",
    "insurance_cost = 250 ∗ age − 128 ∗ sex + 370 ∗ bmi + 425 ∗ num_of_children + 24000 * smoker − 12500\n",
    "```"
   ]
  },
  {
   "cell_type": "code",
   "execution_count": 2,
   "metadata": {},
   "outputs": [],
   "source": [
    "# Segundo passo - criar uma variável chamada insurance_cost utilizando a fórmula\n",
    "# Nesse passo eu fiz uma adaptação ao que foi pedido no exercício e preferi criar uma função que possa ser reutilizada ao longo da análise\n",
    "def insurance_cost_formula():\n",
    "    return 250 * age - 128 * sex + 370 * bmi + 425 * num_of_children + 24000 * smoker - 12500"
   ]
  },
  {
   "cell_type": "markdown",
   "metadata": {},
   "source": [
    "# 3. \n",
    "Let’s display this value in an informative way. Print out the following string in the terminal:\n",
    "```\n",
    "This person's insurance cost is {insurance_cost} dollars.\n",
    "````\n",
    "You will need to use string concatenation, including the str() function to print out the insurance_cost."
   ]
  },
  {
   "cell_type": "code",
   "execution_count": 3,
   "metadata": {},
   "outputs": [
    {
     "name": "stdout",
     "output_type": "stream",
     "text": [
      "This person's insurance cost is 5469.0 dollars.\n"
     ]
    }
   ],
   "source": [
    "# Terceiro passo - exibir a frase \"This person's insurance cost is {insurance_cost} dollars.\"\n",
    "# Aqui eu criei a variável insurance_cost utilizando a função criada no passo anterior\n",
    "insurance_cost = insurance_cost_formula()\n",
    "print('This person\\'s insurance cost is ' + str(insurance_cost) + ' dollars.')"
   ]
  },
  {
   "cell_type": "markdown",
   "metadata": {},
   "source": [
    "# 4. Looking at Age Factor\n",
    "We have seen how our formula can estimate costs for one individual. \n",
    "Now let’s play with some individual factors to see what role each one plays in our estimation!\n",
    "\n",
    "Let’s start with the ```age``` factor. Using a plus-equal operator, add 4 years to our ```age``` variable."
   ]
  },
  {
   "cell_type": "code",
   "execution_count": 4,
   "metadata": {},
   "outputs": [],
   "source": [
    "# Quarto passo - adicionar 4 à variável age\n",
    "age += 4"
   ]
  },
  {
   "cell_type": "markdown",
   "metadata": {},
   "source": [
    "# 5. \n",
    "Now that we have changed our age value, we want to recalculate our insurance cost. \n",
    "Declare a new variable called ```new_insurance_cost``` underneath the expression that increased age by 4.\n",
    "\n",
    "Make sure you leave the line with the insurance_cost variable the same. We will use it later in our program!"
   ]
  },
  {
   "cell_type": "code",
   "execution_count": 5,
   "metadata": {},
   "outputs": [
    {
     "name": "stdout",
     "output_type": "stream",
     "text": [
      "6469.0\n"
     ]
    }
   ],
   "source": [
    "new_insurance_cost = insurance_cost_formula()\n",
    "print(new_insurance_cost)"
   ]
  },
  {
   "cell_type": "markdown",
   "metadata": {},
   "source": [
    "# 6.\n",
    "Next, we want to find the difference between our ```new_insurance_cost``` and ```insurance_cost```. To do this, let’s create a new variable called ```change_in_insurance_cost``` and set it equal to the difference between ```new_insurance_cost``` and ```insurance_cost```.\n",
    "\n",
    "Note: depending on the order that we subtract (eg., ```new_insurance_cost - insurance cost``` vs. ```insurance_cost - new_insurance_cost```), we’ll get a positive or negative version of the same number. To make this difference interpretable, let’s calculate ```new_insurance_cost - insurance_cost```. Then we can say, “people who are four years older have estimated insurance costs that are ```change_in_insurance_cost``` dollars different, where the sign of ```change_in_insurance_cost``` tells us whether the cost is higher or lower."
   ]
  },
  {
   "cell_type": "code",
   "execution_count": 6,
   "metadata": {},
   "outputs": [],
   "source": [
    "# Sexto passo - calcular change_in_insurance_cost\n",
    "change_in_insurance_cost = new_insurance_cost - insurance_cost"
   ]
  },
  {
   "cell_type": "markdown",
   "metadata": {},
   "source": [
    "# 7.\n",
    "We want to display this information in an informative way similar to the output from instruction 3. \n",
    "On the next line, print the following string in the terminal, where ```XXX``` is replaced by the value of ```change_in_insurance_cost```:\n",
    "\n",
    "```The change in cost of insurance after increasing the age by 4 years is XXX dollars.```  \n",
    "\n",
    "Doing this will tell us how 4 years in age affects medical insurance cost estimates assuming that all other variables remain the same.\n",
    "\n",
    "You will need to concatenate strings and use the ```str()``` method."
   ]
  },
  {
   "cell_type": "code",
   "execution_count": 7,
   "metadata": {},
   "outputs": [
    {
     "name": "stdout",
     "output_type": "stream",
     "text": [
      "The change in cost of insurance after increasing the age by 4 years is 1000.0 dollars.\n"
     ]
    }
   ],
   "source": [
    "# Sétimo passo - exibir a frase contendo o valor da variável calculada anteriormente: change_in_insurance_cost\n",
    "print('The change in cost of insurance after increasing the age by 4 years is ' + str(change_in_insurance_cost) + ' dollars.')"
   ]
  },
  {
   "cell_type": "markdown",
   "metadata": {},
   "source": [
    "# 8. Looking at BMI Factor\n",
    "Now that you have looked at the age factor, let’s move onto another one: ```BMI```. \n",
    "First, we have to redefine our age variable to be its original value.\n",
    "\n",
    "Set age to 28 following your last piece of code. \n",
    "This will reset its value and allow us to focus on just the change in the ```BMI``` factor moving forward.\n",
    "\n",
    "On the next line, using the plus-equal operator, add 3.1 to our bmi variable."
   ]
  },
  {
   "cell_type": "code",
   "execution_count": 8,
   "metadata": {},
   "outputs": [],
   "source": [
    "# Oitavo passo - voltar a variável age ao valor original\n",
    "age = 28\n",
    "# Então adicionar 3.1 à variável BMI:\n",
    "bmi += 3+1"
   ]
  },
  {
   "cell_type": "markdown",
   "metadata": {},
   "source": [
    "# 9.\n",
    "\n",
    "Now let’s find out how a change in ```BMI``` affects insurance costs. \n",
    "Our next steps are pretty much the same as we have done before when looking at age.\n",
    "\n",
    "Below the line where ```bmi``` was increased by 3.1, rewrite the insurance cost formula and assign it to the variable name ```new_insurance_cost```.\n",
    "\n",
    "Save the difference between ```new_insurance_cost``` and ```insurance_cost``` in a variable called ```change_in_insurance_cost```\n",
    "\n",
    "Display the following string in the output terminal, where XXX is replaced by the value of change_in_insurance_cost:\n",
    "\n",
    "```The change in estimated insurance cost after increasing BMI by 3.1 is XXX dollars.```   \n",
    "\n",
    "You can leave the code above it as is, including the print statements."
   ]
  },
  {
   "cell_type": "code",
   "execution_count": 9,
   "metadata": {},
   "outputs": [
    {
     "name": "stdout",
     "output_type": "stream",
     "text": [
      "The change in estimated insurance cost after increasing BMI by 3.1 is 1480.0 dollars\n"
     ]
    }
   ],
   "source": [
    "# Nono passo - recalcular new_insurance_cost após a alteração do BMI:\n",
    "new_insurance_cost = insurance_cost_formula()\n",
    "# Calcular novamente a variável change_in_insurance_cost:\n",
    "change_in_insurance_cost = new_insurance_cost - insurance_cost\n",
    "# Exibir o novo valor de change_in_insurance_cost, utilizando a string:\n",
    "print('The change in estimated insurance cost after increasing BMI by 3.1 is ' + str(change_in_insurance_cost) + ' dollars')"
   ]
  },
  {
   "cell_type": "markdown",
   "metadata": {},
   "source": [
    "# 10.\n",
    "\n",
    "Let’s look at the effect sex has on medical insurance costs.  \n",
    "Before we make any additional changes, first reassign your bmi variable back to its original value of 26.2.\n",
    "\n",
    "On a new line of code, reassign the value of sex to 1.  \n",
    "A reminder that 1 identifies male individuals and 0 identifies female individuals."
   ]
  },
  {
   "cell_type": "code",
   "execution_count": 10,
   "metadata": {},
   "outputs": [],
   "source": [
    "# Décimo passo - voltar a variável BMI ao valor original:\n",
    "bmi = 26.2\n",
    "# Alterar o valor da variável sex de 0 para 1:\n",
    "sex = 1"
   ]
  },
  {
   "cell_type": "markdown",
   "metadata": {},
   "source": [
    "# 11.\n",
    "Perform the steps below!\n",
    "\n",
    "Rewrite the insurance cost formula and assign it to the variable name ```new_insurance_cost```.\n",
    "\n",
    "Save the difference between ```new_insurance_cost``` and ```insurance_cost``` in a variable called ```change_in_insurance_cost```.\n",
    "\n",
    "Display the following string in the output terminal, where ```XXX``` is replaced by the value of ```change_in_insurance_cost```:\n",
    "\n",
    "```The change in estimated cost for being male instead of female is XXX dollars.```"
   ]
  },
  {
   "cell_type": "code",
   "execution_count": 11,
   "metadata": {},
   "outputs": [
    {
     "name": "stdout",
     "output_type": "stream",
     "text": [
      "The change in estimated cost for being male instead of female is -128.0 dollars.\n"
     ]
    }
   ],
   "source": [
    "# Décimo primeiro passo - recalcular new_insurance_cost após a alteração na variável sex\n",
    "new_insurance_cost = insurance_cost_formula()\n",
    "# Calcular novamente a diferença entre new_insurance_cost e insurance_cost:\n",
    "change_in_insurance_cost = new_insurance_cost - insurance_cost\n",
    "# Exibir a string com o novo valor de change_in_insurance_cost:\n",
    "print('The change in estimated cost for being male instead of female is '+ str(change_in_insurance_cost) +' dollars.')"
   ]
  },
  {
   "cell_type": "markdown",
   "metadata": {},
   "source": [
    "# 12.\n",
    "Notice that this time you got a negative value for ```change_in_insurance_cost```.    \n",
    "Let’s think about what this means.  \n",
    "We changed the sex variable from 0 (female) to 1 (male) and it decreased the estimated insurance costs.\n",
    "\n",
    "This means that men tend to have lower medical costs on average than women.  \n",
    "Reflect on the other findings you have dug up from this investigation so far."
   ]
  },
  {
   "cell_type": "markdown",
   "metadata": {},
   "source": [
    "------------------------------------------"
   ]
  },
  {
   "cell_type": "markdown",
   "metadata": {},
   "source": [
    "### Exercício Extra \n",
    "\n",
    "**Como exercício adicional, resolvi fazer o download do dataset Medical Cost Personal Datasets e fazer uma análise desses dados para saber se chegarei à mesma conclusão, ou seja que homens tendem a ter menores custos médicos do que mulheres.**\n",
    "\n",
    "Nesse link do Kaggle você pode baixar o [dataset](https://www.kaggle.com/mirichoi0218/insurance?select=insurance.csv)."
   ]
  },
  {
   "cell_type": "markdown",
   "metadata": {},
   "source": [
    "# 1. Análise exploratória dos dados:\n",
    "Para começar a análise dos dados, vamos importar a biblioteca Pandas e utilizando ```pd.read_csv``` explorar os dados do arquivo ```insurance.csv```:"
   ]
  },
  {
   "cell_type": "code",
   "execution_count": 1,
   "metadata": {},
   "outputs": [
    {
     "data": {
      "text/html": [
       "<div>\n",
       "<style scoped>\n",
       "    .dataframe tbody tr th:only-of-type {\n",
       "        vertical-align: middle;\n",
       "    }\n",
       "\n",
       "    .dataframe tbody tr th {\n",
       "        vertical-align: top;\n",
       "    }\n",
       "\n",
       "    .dataframe thead th {\n",
       "        text-align: right;\n",
       "    }\n",
       "</style>\n",
       "<table border=\"1\" class=\"dataframe\">\n",
       "  <thead>\n",
       "    <tr style=\"text-align: right;\">\n",
       "      <th></th>\n",
       "      <th>age</th>\n",
       "      <th>sex</th>\n",
       "      <th>bmi</th>\n",
       "      <th>children</th>\n",
       "      <th>smoker</th>\n",
       "      <th>region</th>\n",
       "      <th>charges</th>\n",
       "    </tr>\n",
       "  </thead>\n",
       "  <tbody>\n",
       "    <tr>\n",
       "      <th>0</th>\n",
       "      <td>19</td>\n",
       "      <td>female</td>\n",
       "      <td>27.900</td>\n",
       "      <td>0</td>\n",
       "      <td>yes</td>\n",
       "      <td>southwest</td>\n",
       "      <td>16884.92400</td>\n",
       "    </tr>\n",
       "    <tr>\n",
       "      <th>1</th>\n",
       "      <td>18</td>\n",
       "      <td>male</td>\n",
       "      <td>33.770</td>\n",
       "      <td>1</td>\n",
       "      <td>no</td>\n",
       "      <td>southeast</td>\n",
       "      <td>1725.55230</td>\n",
       "    </tr>\n",
       "    <tr>\n",
       "      <th>2</th>\n",
       "      <td>28</td>\n",
       "      <td>male</td>\n",
       "      <td>33.000</td>\n",
       "      <td>3</td>\n",
       "      <td>no</td>\n",
       "      <td>southeast</td>\n",
       "      <td>4449.46200</td>\n",
       "    </tr>\n",
       "    <tr>\n",
       "      <th>3</th>\n",
       "      <td>33</td>\n",
       "      <td>male</td>\n",
       "      <td>22.705</td>\n",
       "      <td>0</td>\n",
       "      <td>no</td>\n",
       "      <td>northwest</td>\n",
       "      <td>21984.47061</td>\n",
       "    </tr>\n",
       "    <tr>\n",
       "      <th>4</th>\n",
       "      <td>32</td>\n",
       "      <td>male</td>\n",
       "      <td>28.880</td>\n",
       "      <td>0</td>\n",
       "      <td>no</td>\n",
       "      <td>northwest</td>\n",
       "      <td>3866.85520</td>\n",
       "    </tr>\n",
       "  </tbody>\n",
       "</table>\n",
       "</div>"
      ],
      "text/plain": [
       "   age     sex     bmi  children smoker     region      charges\n",
       "0   19  female  27.900         0    yes  southwest  16884.92400\n",
       "1   18    male  33.770         1     no  southeast   1725.55230\n",
       "2   28    male  33.000         3     no  southeast   4449.46200\n",
       "3   33    male  22.705         0     no  northwest  21984.47061\n",
       "4   32    male  28.880         0     no  northwest   3866.85520"
      ]
     },
     "execution_count": 1,
     "metadata": {},
     "output_type": "execute_result"
    }
   ],
   "source": [
    "import pandas as pd\n",
    "medical_data = pd.read_csv('insurance.csv')\n",
    "medical_data.head()"
   ]
  },
  {
   "cell_type": "markdown",
   "metadata": {},
   "source": [
    "Utilizando comandos como ```dtypes```, ```shape```\n",
    " e ```info```, dá para conhecermos um pouco melhor os dados:"
   ]
  },
  {
   "cell_type": "code",
   "execution_count": 2,
   "metadata": {},
   "outputs": [
    {
     "data": {
      "text/plain": [
       "age           int64\n",
       "sex          object\n",
       "bmi         float64\n",
       "children      int64\n",
       "smoker       object\n",
       "region       object\n",
       "charges     float64\n",
       "dtype: object"
      ]
     },
     "execution_count": 2,
     "metadata": {},
     "output_type": "execute_result"
    }
   ],
   "source": [
    "medical_data.dtypes"
   ]
  },
  {
   "cell_type": "code",
   "execution_count": 3,
   "metadata": {},
   "outputs": [
    {
     "data": {
      "text/plain": [
       "(1338, 7)"
      ]
     },
     "execution_count": 3,
     "metadata": {},
     "output_type": "execute_result"
    }
   ],
   "source": [
    "medical_data.shape"
   ]
  },
  {
   "cell_type": "code",
   "execution_count": 4,
   "metadata": {},
   "outputs": [
    {
     "data": {
      "text/plain": [
       "<bound method DataFrame.info of       age     sex     bmi  children smoker     region      charges\n",
       "0      19  female  27.900         0    yes  southwest  16884.92400\n",
       "1      18    male  33.770         1     no  southeast   1725.55230\n",
       "2      28    male  33.000         3     no  southeast   4449.46200\n",
       "3      33    male  22.705         0     no  northwest  21984.47061\n",
       "4      32    male  28.880         0     no  northwest   3866.85520\n",
       "...   ...     ...     ...       ...    ...        ...          ...\n",
       "1333   50    male  30.970         3     no  northwest  10600.54830\n",
       "1334   18  female  31.920         0     no  northeast   2205.98080\n",
       "1335   18  female  36.850         0     no  southeast   1629.83350\n",
       "1336   21  female  25.800         0     no  southwest   2007.94500\n",
       "1337   61  female  29.070         0    yes  northwest  29141.36030\n",
       "\n",
       "[1338 rows x 7 columns]>"
      ]
     },
     "execution_count": 4,
     "metadata": {},
     "output_type": "execute_result"
    }
   ],
   "source": [
    "medical_data.info"
   ]
  },
  {
   "cell_type": "markdown",
   "metadata": {},
   "source": [
    "Em seguida utilizando ```isna.sum()``` verificaremos se existem dados nulos ou faltantes nesse dataset:"
   ]
  },
  {
   "cell_type": "code",
   "execution_count": 5,
   "metadata": {},
   "outputs": [
    {
     "data": {
      "text/plain": [
       "age         0\n",
       "sex         0\n",
       "bmi         0\n",
       "children    0\n",
       "smoker      0\n",
       "region      0\n",
       "charges     0\n",
       "dtype: int64"
      ]
     },
     "execution_count": 5,
     "metadata": {},
     "output_type": "execute_result"
    }
   ],
   "source": [
    "medical_data.isna().sum()"
   ]
  },
  {
   "cell_type": "markdown",
   "metadata": {},
   "source": [
    "<img src=\"girl_surprise.gif\" width=\"600\">\n",
    "  \n",
    "### Que dataset lindo! Nenhum dado faltante!!!"
   ]
  },
  {
   "cell_type": "markdown",
   "metadata": {},
   "source": [
    "Agora vamos pensar nas variáveis e seus tipos, utilizando novamente o ```dtypes```:"
   ]
  },
  {
   "cell_type": "code",
   "execution_count": 6,
   "metadata": {},
   "outputs": [
    {
     "data": {
      "text/plain": [
       "age           int64\n",
       "sex          object\n",
       "bmi         float64\n",
       "children      int64\n",
       "smoker       object\n",
       "region       object\n",
       "charges     float64\n",
       "dtype: object"
      ]
     },
     "execution_count": 6,
     "metadata": {},
     "output_type": "execute_result"
    }
   ],
   "source": [
    "medical_data.dtypes"
   ]
  },
  {
   "cell_type": "markdown",
   "metadata": {},
   "source": [
    "As variáveis ```age```e ```children``` são do tipo ```int64```, assim como as variáveis ```bmi```e ```charges``` que são do tipo ```float64``` o que vai nos permitir analisá-las sem problemas.  \n",
    "Porém as variáveis ```sex```, ```smoker``` e ```region``` são do tipo ```object```, ou melhor, observando os dados, elas são strings, que precisam ser convertidas para que possamos utilizá-las na nossa análise.\n",
    "\n",
    "Vamos começar pela variável ```sex``` que nesse caso tem os valor ```male``` ou ```female```, mas nós vamos nos certificar dessa informação utilizando o método ```.unique()```:\n"
   ]
  },
  {
   "cell_type": "code",
   "execution_count": 7,
   "metadata": {},
   "outputs": [
    {
     "data": {
      "text/plain": [
       "array(['female', 'male'], dtype=object)"
      ]
     },
     "execution_count": 7,
     "metadata": {},
     "output_type": "execute_result"
    }
   ],
   "source": [
    "medical_data['sex'].unique()"
   ]
  },
  {
   "cell_type": "markdown",
   "metadata": {},
   "source": [
    "Vamos utilizar aqui o método ```replace``` e em seguida converter em valores utilizando ```astype```.   \n",
    "\n",
    "Para ter certeza que temos os mesmos valores no final da transformação dos dados, vamos ver quantos valores ```male``` e quantos valores ```female``` nós temos nesse dataset."
   ]
  },
  {
   "cell_type": "code",
   "execution_count": 8,
   "metadata": {},
   "outputs": [
    {
     "data": {
      "text/plain": [
       "male      676\n",
       "female    662\n",
       "Name: sex, dtype: int64"
      ]
     },
     "execution_count": 8,
     "metadata": {},
     "output_type": "execute_result"
    }
   ],
   "source": [
    "medical_data['sex'].value_counts()"
   ]
  },
  {
   "cell_type": "markdown",
   "metadata": {},
   "source": [
    "Temos 676 valores ```male``` e 662 valores ```female```.   \n",
    "\n",
    "Para não confundir, utilizaremos ```0``` para ```female``` e ```1``` para ```male``` como foi feito no projeto da Codecademy."
   ]
  },
  {
   "cell_type": "code",
   "execution_count": 9,
   "metadata": {},
   "outputs": [],
   "source": [
    "# Aplicando o método .replace() à female:\n",
    "medical_data['sex'] = medical_data['sex'].replace(['female'], 0)"
   ]
  },
  {
   "cell_type": "code",
   "execution_count": 10,
   "metadata": {},
   "outputs": [],
   "source": [
    "# Aplicando o método .replace() à male:\n",
    "medical_data['sex'] = medical_data['sex'].replace(['male'], 1)"
   ]
  },
  {
   "cell_type": "code",
   "execution_count": 11,
   "metadata": {},
   "outputs": [
    {
     "data": {
      "text/html": [
       "<div>\n",
       "<style scoped>\n",
       "    .dataframe tbody tr th:only-of-type {\n",
       "        vertical-align: middle;\n",
       "    }\n",
       "\n",
       "    .dataframe tbody tr th {\n",
       "        vertical-align: top;\n",
       "    }\n",
       "\n",
       "    .dataframe thead th {\n",
       "        text-align: right;\n",
       "    }\n",
       "</style>\n",
       "<table border=\"1\" class=\"dataframe\">\n",
       "  <thead>\n",
       "    <tr style=\"text-align: right;\">\n",
       "      <th></th>\n",
       "      <th>age</th>\n",
       "      <th>sex</th>\n",
       "      <th>bmi</th>\n",
       "      <th>children</th>\n",
       "      <th>smoker</th>\n",
       "      <th>region</th>\n",
       "      <th>charges</th>\n",
       "    </tr>\n",
       "  </thead>\n",
       "  <tbody>\n",
       "    <tr>\n",
       "      <th>0</th>\n",
       "      <td>19</td>\n",
       "      <td>0</td>\n",
       "      <td>27.900</td>\n",
       "      <td>0</td>\n",
       "      <td>yes</td>\n",
       "      <td>southwest</td>\n",
       "      <td>16884.92400</td>\n",
       "    </tr>\n",
       "    <tr>\n",
       "      <th>1</th>\n",
       "      <td>18</td>\n",
       "      <td>1</td>\n",
       "      <td>33.770</td>\n",
       "      <td>1</td>\n",
       "      <td>no</td>\n",
       "      <td>southeast</td>\n",
       "      <td>1725.55230</td>\n",
       "    </tr>\n",
       "    <tr>\n",
       "      <th>2</th>\n",
       "      <td>28</td>\n",
       "      <td>1</td>\n",
       "      <td>33.000</td>\n",
       "      <td>3</td>\n",
       "      <td>no</td>\n",
       "      <td>southeast</td>\n",
       "      <td>4449.46200</td>\n",
       "    </tr>\n",
       "    <tr>\n",
       "      <th>3</th>\n",
       "      <td>33</td>\n",
       "      <td>1</td>\n",
       "      <td>22.705</td>\n",
       "      <td>0</td>\n",
       "      <td>no</td>\n",
       "      <td>northwest</td>\n",
       "      <td>21984.47061</td>\n",
       "    </tr>\n",
       "    <tr>\n",
       "      <th>4</th>\n",
       "      <td>32</td>\n",
       "      <td>1</td>\n",
       "      <td>28.880</td>\n",
       "      <td>0</td>\n",
       "      <td>no</td>\n",
       "      <td>northwest</td>\n",
       "      <td>3866.85520</td>\n",
       "    </tr>\n",
       "  </tbody>\n",
       "</table>\n",
       "</div>"
      ],
      "text/plain": [
       "   age  sex     bmi  children smoker     region      charges\n",
       "0   19    0  27.900         0    yes  southwest  16884.92400\n",
       "1   18    1  33.770         1     no  southeast   1725.55230\n",
       "2   28    1  33.000         3     no  southeast   4449.46200\n",
       "3   33    1  22.705         0     no  northwest  21984.47061\n",
       "4   32    1  28.880         0     no  northwest   3866.85520"
      ]
     },
     "execution_count": 11,
     "metadata": {},
     "output_type": "execute_result"
    }
   ],
   "source": [
    "medical_data.head()"
   ]
  },
  {
   "cell_type": "markdown",
   "metadata": {},
   "source": [
    "Agora vamos checar o número de valores ```male``` e ```female``` para ver se não houve nenhum erro:"
   ]
  },
  {
   "cell_type": "code",
   "execution_count": 12,
   "metadata": {},
   "outputs": [
    {
     "data": {
      "text/plain": [
       "1    676\n",
       "0    662\n",
       "Name: sex, dtype: int64"
      ]
     },
     "execution_count": 12,
     "metadata": {},
     "output_type": "execute_result"
    }
   ],
   "source": [
    "medical_data['sex'].value_counts()"
   ]
  },
  {
   "cell_type": "markdown",
   "metadata": {},
   "source": [
    "Perfeito, nós temos 676 valores ```1``` e 662 valores ```0```.  \n",
    "\n",
    "Agora podemos utilizar novamente o ```dtypes```, para checar a variável ```sex```:"
   ]
  },
  {
   "cell_type": "code",
   "execution_count": 13,
   "metadata": {},
   "outputs": [
    {
     "data": {
      "text/plain": [
       "age           int64\n",
       "sex           int64\n",
       "bmi         float64\n",
       "children      int64\n",
       "smoker       object\n",
       "region       object\n",
       "charges     float64\n",
       "dtype: object"
      ]
     },
     "execution_count": 13,
     "metadata": {},
     "output_type": "execute_result"
    }
   ],
   "source": [
    "medical_data.dtypes"
   ]
  },
  {
   "cell_type": "markdown",
   "metadata": {},
   "source": [
    "Utilizando o método ```.replace()```fez com as variáveis fossem automaticamente convertidas para o tipo ```int64```, não sendo necessária a aplicação do método ```astype()```.  \n",
    "\n",
    "Agora vamos fazer o mesmo processo para a variável ```smoker```.   \n",
    "\n",
    "Primeiro vamos checar os valores únicos:"
   ]
  },
  {
   "cell_type": "code",
   "execution_count": 14,
   "metadata": {},
   "outputs": [
    {
     "data": {
      "text/plain": [
       "array(['yes', 'no'], dtype=object)"
      ]
     },
     "execution_count": 14,
     "metadata": {},
     "output_type": "execute_result"
    }
   ],
   "source": [
    "medical_data['smoker'].unique()"
   ]
  },
  {
   "cell_type": "markdown",
   "metadata": {},
   "source": [
    "Vamos mais uma vez contar quantos valores ```yes``` e quantos valores ```no``` nós temos no dataset para podermos conferir após a aplicação do método ```.replace()```:"
   ]
  },
  {
   "cell_type": "code",
   "execution_count": 15,
   "metadata": {},
   "outputs": [
    {
     "data": {
      "text/plain": [
       "no     1064\n",
       "yes     274\n",
       "Name: smoker, dtype: int64"
      ]
     },
     "execution_count": 15,
     "metadata": {},
     "output_type": "execute_result"
    }
   ],
   "source": [
    "medical_data['smoker'].value_counts()"
   ]
  },
  {
   "cell_type": "markdown",
   "metadata": {},
   "source": [
    "Agora, vamos aplicar o método ```.replace()``` utilizando ```0``` para ```no``` e ```1``` para ```yes```, conforme o exercício anterior da Codecademy:"
   ]
  },
  {
   "cell_type": "code",
   "execution_count": 16,
   "metadata": {},
   "outputs": [],
   "source": [
    "# Aplicando o método .replace() à no (non-smoker):\n",
    "medical_data['smoker'] = medical_data['smoker'].replace(['no'], 0)"
   ]
  },
  {
   "cell_type": "code",
   "execution_count": 17,
   "metadata": {},
   "outputs": [],
   "source": [
    "# Aplicando o método .replace() à yes (smoker):\n",
    "medical_data['smoker'] = medical_data['smoker'].replace(['yes'], 1)"
   ]
  },
  {
   "cell_type": "code",
   "execution_count": 18,
   "metadata": {},
   "outputs": [
    {
     "data": {
      "text/html": [
       "<div>\n",
       "<style scoped>\n",
       "    .dataframe tbody tr th:only-of-type {\n",
       "        vertical-align: middle;\n",
       "    }\n",
       "\n",
       "    .dataframe tbody tr th {\n",
       "        vertical-align: top;\n",
       "    }\n",
       "\n",
       "    .dataframe thead th {\n",
       "        text-align: right;\n",
       "    }\n",
       "</style>\n",
       "<table border=\"1\" class=\"dataframe\">\n",
       "  <thead>\n",
       "    <tr style=\"text-align: right;\">\n",
       "      <th></th>\n",
       "      <th>age</th>\n",
       "      <th>sex</th>\n",
       "      <th>bmi</th>\n",
       "      <th>children</th>\n",
       "      <th>smoker</th>\n",
       "      <th>region</th>\n",
       "      <th>charges</th>\n",
       "    </tr>\n",
       "  </thead>\n",
       "  <tbody>\n",
       "    <tr>\n",
       "      <th>0</th>\n",
       "      <td>19</td>\n",
       "      <td>0</td>\n",
       "      <td>27.900</td>\n",
       "      <td>0</td>\n",
       "      <td>1</td>\n",
       "      <td>southwest</td>\n",
       "      <td>16884.92400</td>\n",
       "    </tr>\n",
       "    <tr>\n",
       "      <th>1</th>\n",
       "      <td>18</td>\n",
       "      <td>1</td>\n",
       "      <td>33.770</td>\n",
       "      <td>1</td>\n",
       "      <td>0</td>\n",
       "      <td>southeast</td>\n",
       "      <td>1725.55230</td>\n",
       "    </tr>\n",
       "    <tr>\n",
       "      <th>2</th>\n",
       "      <td>28</td>\n",
       "      <td>1</td>\n",
       "      <td>33.000</td>\n",
       "      <td>3</td>\n",
       "      <td>0</td>\n",
       "      <td>southeast</td>\n",
       "      <td>4449.46200</td>\n",
       "    </tr>\n",
       "    <tr>\n",
       "      <th>3</th>\n",
       "      <td>33</td>\n",
       "      <td>1</td>\n",
       "      <td>22.705</td>\n",
       "      <td>0</td>\n",
       "      <td>0</td>\n",
       "      <td>northwest</td>\n",
       "      <td>21984.47061</td>\n",
       "    </tr>\n",
       "    <tr>\n",
       "      <th>4</th>\n",
       "      <td>32</td>\n",
       "      <td>1</td>\n",
       "      <td>28.880</td>\n",
       "      <td>0</td>\n",
       "      <td>0</td>\n",
       "      <td>northwest</td>\n",
       "      <td>3866.85520</td>\n",
       "    </tr>\n",
       "  </tbody>\n",
       "</table>\n",
       "</div>"
      ],
      "text/plain": [
       "   age  sex     bmi  children  smoker     region      charges\n",
       "0   19    0  27.900         0       1  southwest  16884.92400\n",
       "1   18    1  33.770         1       0  southeast   1725.55230\n",
       "2   28    1  33.000         3       0  southeast   4449.46200\n",
       "3   33    1  22.705         0       0  northwest  21984.47061\n",
       "4   32    1  28.880         0       0  northwest   3866.85520"
      ]
     },
     "execution_count": 18,
     "metadata": {},
     "output_type": "execute_result"
    }
   ],
   "source": [
    "medical_data.head()"
   ]
  },
  {
   "cell_type": "markdown",
   "metadata": {},
   "source": [
    "Agora vamos checar os valores de smoker ou non-smoker para ver se tivemos algum erro:"
   ]
  },
  {
   "cell_type": "code",
   "execution_count": 19,
   "metadata": {},
   "outputs": [
    {
     "data": {
      "text/plain": [
       "0    1064\n",
       "1     274\n",
       "Name: smoker, dtype: int64"
      ]
     },
     "execution_count": 19,
     "metadata": {},
     "output_type": "execute_result"
    }
   ],
   "source": [
    "medical_data['smoker'].value_counts()"
   ]
  },
  {
   "cell_type": "markdown",
   "metadata": {},
   "source": [
    "Tudo certo, temos ```1064``` valores ```0``` que correspondem a ```non-smoker``` e ```274``` valores ```1``` que correspondem a ```smoker```.   \n",
    "\n",
    "Por último temos a variável ```region```.  \n",
    "Vamos começar checando seus valores únicos:"
   ]
  },
  {
   "cell_type": "code",
   "execution_count": 20,
   "metadata": {},
   "outputs": [
    {
     "data": {
      "text/plain": [
       "array(['southwest', 'southeast', 'northwest', 'northeast'], dtype=object)"
      ]
     },
     "execution_count": 20,
     "metadata": {},
     "output_type": "execute_result"
    }
   ],
   "source": [
    "medical_data['region'].unique()"
   ]
  },
  {
   "cell_type": "markdown",
   "metadata": {},
   "source": [
    "Para essa análise, nós estamos querendo responder a pergunta: Os homens tem menores custos com saúde, custos médicos do que as mulheres?  \n",
    "Nesse caso, não vejo no momento necessidade de fazer nenhuma alteração nos valores da variável ```region```.  \n",
    "\n",
    "Porém, caso haja necessidade, podemos utilizar por exemplo o método ```One-Hot encoding```."
   ]
  },
  {
   "cell_type": "markdown",
   "metadata": {},
   "source": [
    "# 1.2 Visualização dos dados\n",
    "\n",
    "Vamos utilizar alguns gráficos para representar esses dados visualmente.\n",
    "Vou importar as bibliotecas ```seaborn``` e ```matplotlib``` para essas análises."
   ]
  },
  {
   "cell_type": "code",
   "execution_count": 21,
   "metadata": {},
   "outputs": [],
   "source": [
    "import seaborn as sns\n",
    "from matplotlib import pyplot as plt"
   ]
  },
  {
   "cell_type": "code",
   "execution_count": 22,
   "metadata": {},
   "outputs": [
    {
     "data": {
      "image/png": "[encoded data removed]",
      "text/plain": [
       "<Figure size 1000x400 with 1 Axes>"
      ]
     },
     "metadata": {},
     "output_type": "display_data"
    }
   ],
   "source": [
    "plt.rcParams['figure.dpi'] = 100\n",
    "sns.set(style=\"whitegrid\")\n",
    "\n",
    "fig, ax = plt.subplots(figsize=(10,4))\n",
    "ax = sns.countplot(x = medical_data['sex'], palette='pastel')\n",
    "ax.set_xticklabels(['Female', 'Male'])\n",
    "plt.ylabel('')\n",
    "plt.xlabel('')\n",
    "plt.title('Total Number of Female and Male')\n",
    "sns.despine(left=True)\n",
    "plt.show()"
   ]
  },
  {
   "cell_type": "code",
   "execution_count": 23,
   "metadata": {},
   "outputs": [
    {
     "data": {
      "image/png": "[encoded data removed]",
      "text/plain": [
       "<Figure size 1000x400 with 1 Axes>"
      ]
     },
     "metadata": {},
     "output_type": "display_data"
    }
   ],
   "source": [
    "plt.rcParams['figure.dpi'] = 100\n",
    "sns.set(style=\"whitegrid\")\n",
    "\n",
    "fig, ax = plt.subplots(figsize=(10,4))\n",
    "ax = sns.countplot(x = medical_data['region'], palette='pastel')\n",
    "plt.ylabel('')\n",
    "plt.xlabel('')\n",
    "plt.title('Total Number per Region')\n",
    "sns.despine(left=True)\n",
    "plt.show()"
   ]
  },
  {
   "cell_type": "code",
   "execution_count": 24,
   "metadata": {},
   "outputs": [
    {
     "data": {
      "image/png": "[encoded data removed]",
      "text/plain": [
       "<Figure size 1000x400 with 1 Axes>"
      ]
     },
     "metadata": {},
     "output_type": "display_data"
    }
   ],
   "source": [
    "plt.rcParams['figure.dpi'] = 100\n",
    "sns.set(style=\"whitegrid\")\n",
    "\n",
    "fig, ax = plt.subplots(figsize=(10,4))\n",
    "ax = sns.countplot(x = medical_data['smoker'], palette='pastel')\n",
    "ax.set_xticklabels(['Non-Smoker', 'Smoker'])\n",
    "plt.ylabel('')\n",
    "plt.xlabel('')\n",
    "plt.title('Total Number of Non-Smoker and Smoker')\n",
    "sns.despine(left=True)\n",
    "plt.show()"
   ]
  },
  {
   "cell_type": "code",
   "execution_count": 25,
   "metadata": {},
   "outputs": [
    {
     "data": {
      "image/png": "[encoded data removed]",
      "text/plain": [
       "<Figure size 1000x400 with 1 Axes>"
      ]
     },
     "metadata": {},
     "output_type": "display_data"
    }
   ],
   "source": [
    "plt.rcParams['figure.dpi'] = 100\n",
    "sns.set(style=\"whitegrid\")\n",
    "\n",
    "fig, ax = plt.subplots(figsize=(10,4))\n",
    "ax = sns.countplot(x = medical_data['children'], palette='pastel')\n",
    "#ax.set_xticklabels(['Non-Smoker', 'Smoker'])\n",
    "plt.ylabel('')\n",
    "plt.xlabel('')\n",
    "plt.title('Number of Children')\n",
    "sns.despine(left=True)\n",
    "plt.show()"
   ]
  },
  {
   "cell_type": "code",
   "execution_count": 32,
   "metadata": {},
   "outputs": [
    {
     "data": {
      "image/png": "[encoded data removed]",
      "text/plain": [
       "<Figure size 1000x400 with 1 Axes>"
      ]
     },
     "metadata": {},
     "output_type": "display_data"
    }
   ],
   "source": [
    "plt.rcParams['figure.dpi'] = 100\n",
    "sns.set(style=\"whitegrid\")\n",
    "\n",
    "fig, ax = plt.subplots(figsize=(10,4))\n",
    "sns.histplot(medical_data['age'], bins=12, kde=True, palette='pastel')\n",
    "plt.ylabel('')\n",
    "plt.xlabel('')\n",
    "plt.title('Age Distribution')\n",
    "sns.despine(left=True)\n",
    "plt.show()"
   ]
  },
  {
   "cell_type": "code",
   "execution_count": null,
   "metadata": {},
   "outputs": [],
   "source": []
  }
 ],
 "metadata": {
  "kernelspec": {
   "display_name": "Python 3",
   "language": "python",
   "name": "python3"
  },
  "language_info": {
   "codemirror_mode": {
    "name": "ipython",
    "version": 3
   },
   "file_extension": ".py",
   "mimetype": "text/x-python",
   "name": "python",
   "nbconvert_exporter": "python",
   "pygments_lexer": "ipython3",
   "version": "3.9.2"
  }
 },
 "nbformat": 4,
 "nbformat_minor": 4
}
